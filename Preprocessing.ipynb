{
 "cells": [
  {
   "cell_type": "code",
   "execution_count": 1,
   "metadata": {},
   "outputs": [
    {
     "name": "stdout",
     "output_type": "stream",
     "text": [
      "         Date    close \n",
      "0   2023-01-03  4241.85\n",
      "1   2023-01-02  4292.15\n",
      "2   2022-12-30  4307.45\n",
      "3   2022-12-29  4348.30\n",
      "4   2022-12-28  4385.95\n",
      "..         ...      ...\n",
      "245 2022-01-07  3737.35\n",
      "246 2022-01-06  3675.10\n",
      "247 2022-01-05  3659.70\n",
      "248 2022-01-04  3638.45\n",
      "249 2022-01-03  3617.55\n",
      "\n",
      "[250 rows x 2 columns]\n"
     ]
    }
   ],
   "source": [
    "#Load the dataset\n",
    "import pandas as pd\n",
    "df=pd.read_excel(\"C:/Users/Srividhya/Desktop/ClosePriceData.xlsx\")\n",
    "print(df)\n",
    "\n",
    "\n"
   ]
  },
  {
   "cell_type": "code",
   "execution_count": 7,
   "metadata": {},
   "outputs": [
    {
     "name": "stdout",
     "output_type": "stream",
     "text": [
      "0     2023-01-03\n",
      "1     2023-01-02\n",
      "2     2022-12-30\n",
      "3     2022-12-29\n",
      "4     2022-12-28\n",
      "         ...    \n",
      "245   2022-01-07\n",
      "246   2022-01-06\n",
      "247   2022-01-05\n",
      "248   2022-01-04\n",
      "249   2022-01-03\n",
      "Name: Date, Length: 250, dtype: datetime64[ns]\n"
     ]
    }
   ],
   "source": [
    "#After importing the excel data, let's enter into preprocessing\n",
    "#1) Checking for missing values\n",
    "#2) Conversion of date column to date time format for easy indexing, sorting and calculations.\n",
    "\n",
    "missing_values=df.isna().sum()\n",
    "missing_values\n",
    "df.columns\n",
    "df.columns=df.columns.str.strip()\n",
    "df.columns\n",
    "df['Date']=pd.to_datetime(df['Date'])\n",
    "print(df['Date'])\n",
    "\n"
   ]
  },
  {
   "cell_type": "code",
   "execution_count": 9,
   "metadata": {},
   "outputs": [
    {
     "name": "stdout",
     "output_type": "stream",
     "text": [
      "count     250.000000\n",
      "mean     3672.922400\n",
      "std       344.323323\n",
      "min      3094.500000\n",
      "25%      3395.262500\n",
      "50%      3656.600000\n",
      "75%      3797.562500\n",
      "max      4526.500000\n",
      "Name: close, dtype: float64\n"
     ]
    }
   ],
   "source": [
    "#3) Determine the descriptive statistics such as mean, median, std etc.\n",
    "descriptive=df['close'].describe()\n",
    "print(descriptive)"
   ]
  },
  {
   "cell_type": "code",
   "execution_count": 15,
   "metadata": {},
   "outputs": [
    {
     "name": "stdout",
     "output_type": "stream",
     "text": [
      "(-1.7861277271242983, 0.38737031564359997, 0, 249, {'1%': -3.4568881317725864, '5%': -2.8732185133016057, '10%': -2.5729936189738876}, 2518.3507697069617)\n",
      "ADF Statistic: -1.7861277271242983\n",
      "p-value: 0.38737031564359997\n",
      "Critical Values: {'1%': -3.4568881317725864, '5%': -2.8732185133016057, '10%': -2.5729936189738876}\n",
      "p-value > 0.05,Null hypothesis is accepted, the data is non-stationary\n",
      "1      50.30\n",
      "2      15.30\n",
      "3      40.85\n",
      "4      37.65\n",
      "5     -16.70\n",
      "       ...  \n",
      "245   -30.95\n",
      "246   -62.25\n",
      "247   -15.40\n",
      "248   -21.25\n",
      "249   -20.90\n",
      "Name: close, Length: 249, dtype: float64\n"
     ]
    }
   ],
   "source": [
    "#4) Test whether the data is stationary. To proceed with that, let us apply Augmented Dickey-Fuller test.\n",
    "#Augmented Dickey Fuller test is a statistical test to determine the presence of unit root indicating non-stationarity.  \n",
    "#It helps us analyse if differencing the data is necessary to make it suitable for various time series analyses, such as forecasting.\n",
    "\n",
    "from statsmodels.tsa.stattools import adfuller\n",
    "Close=df['close']\n",
    "result=adfuller(Close)\n",
    "print(result)\n",
    "print(\"ADF Statistic:\", result[0])\n",
    "print(\"p-value:\", result[1])\n",
    "print(\"Critical Values:\", result[4])\n",
    "if result[1] <= 0.05:\n",
    "    print(\"p-value <= 0.05: Null hypothesis is rejected,the data is stationary\")\n",
    "else:\n",
    "    print(\"p-value > 0.05,Null hypothesis is accepted, the data is non-stationary\")\n"
   ]
  },
  {
   "cell_type": "code",
   "execution_count": 19,
   "metadata": {},
   "outputs": [
    {
     "name": "stdout",
     "output_type": "stream",
     "text": [
      "1      50.30\n",
      "2      15.30\n",
      "3      40.85\n",
      "4      37.65\n",
      "5     -16.70\n",
      "       ...  \n",
      "245   -30.95\n",
      "246   -62.25\n",
      "247   -15.40\n",
      "248   -21.25\n",
      "249   -20.90\n",
      "Name: close, Length: 249, dtype: float64\n",
      "(-14.81948657697191, 1.9737024966461387e-27, 0, 248, {'1%': -3.4569962781990573, '5%': -2.8732659015936024, '10%': -2.573018897632674}, 2515.1094975378087)\n",
      "ADF Statistic: -14.81948657697191\n",
      "p-value: 1.9737024966461387e-27\n",
      "p-value <= 0.05: Reject the null hypothesis, differenced data is likely stationary\n"
     ]
    }
   ],
   "source": [
    "#Since the data is non-stationary, we should apply ADF test to make it stationary as it is an important assumption to build an ARIMA model.\n",
    "\n",
    "diff = Close.diff().dropna()\n",
    "print(diff)\n",
    "result_diff = adfuller(diff)\n",
    "print(result_diff)\n",
    "print(\"ADF Statistic:\", result_diff[0])\n",
    "print(\"p-value:\", result_diff[1])\n",
    "if result_diff[1] <= 0.05:\n",
    "    print(\"p-value <= 0.05: Reject the null hypothesis, differenced data is likely stationary\")\n",
    "else:\n",
    "    print(\"p-value > 0.05: Fail to reject the null hypothesis, differenced data is likely non-stationary\")\n",
    "    "
   ]
  },
  {
   "cell_type": "code",
   "execution_count": 24,
   "metadata": {},
   "outputs": [],
   "source": [
    "#Now that the data has became stationary after differencing, let us export the data to carry out the analysis\n",
    "diff\n",
    "diff.to_csv('differenced.csv',index=False)\n",
    "diff.to_csv('C:/Users/Srividhya/Desktop/differenced.csv')\n"
   ]
  }
 ],
 "metadata": {
  "kernelspec": {
   "display_name": "env",
   "language": "python",
   "name": "python3"
  },
  "language_info": {
   "codemirror_mode": {
    "name": "ipython",
    "version": 3
   },
   "file_extension": ".py",
   "mimetype": "text/x-python",
   "name": "python",
   "nbconvert_exporter": "python",
   "pygments_lexer": "ipython3",
   "version": "3.11.5"
  },
  "orig_nbformat": 4
 },
 "nbformat": 4,
 "nbformat_minor": 2
}
